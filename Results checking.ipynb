{
 "cells": [
  {
   "cell_type": "code",
   "execution_count": 1,
   "metadata": {},
   "outputs": [],
   "source": [
    "import ujson as json\n",
    "import os\n",
    "import re\n",
    "import pandas as pd\n",
    "\n",
    "from tqdm import tqdm_notebook\n",
    "\n",
    "%matplotlib inline\n",
    "\n",
    "import matplotlib.pyplot as plt\n",
    "\n",
    "from joblib import Parallel,delayed\n",
    "\n",
    "from collections import Counter\n",
    "import nltk\n",
    "from nltk.tokenize import word_tokenize\n",
    "\n",
    "sent_tokenizer = nltk.data.load('tokenizers/punkt/finnish.pickle')"
   ]
  },
  {
   "cell_type": "code",
   "execution_count": null,
   "metadata": {
    "scrolled": true
   },
   "outputs": [
    {
     "name": "stdout",
     "output_type": "stream",
     "text": [
      "Processing file demi\n"
     ]
    },
    {
     "data": {
      "application/vnd.jupyter.widget-view+json": {
       "model_id": "097dac6d9a1b41a0bef9758311ad56f1",
       "version_major": 2,
       "version_minor": 0
      },
      "text/plain": [
       "HBox(children=(IntProgress(value=0, max=223), HTML(value='')))"
      ]
     },
     "metadata": {},
     "output_type": "display_data"
    },
    {
     "name": "stdout",
     "output_type": "stream",
     "text": [
      "Processing file iltalehti\n"
     ]
    },
    {
     "data": {
      "application/vnd.jupyter.widget-view+json": {
       "model_id": "8092bc5370dc4d41a14ec8fa6f9b3b07",
       "version_major": 2,
       "version_minor": 0
      },
      "text/plain": [
       "HBox(children=(IntProgress(value=0, max=4211), HTML(value='')))"
      ]
     },
     "metadata": {},
     "output_type": "display_data"
    }
   ],
   "source": [
    "def preprocess_line(line, min_sent_len=5): # TODO: Add features\n",
    "    content = json.loads(line)['content']\n",
    "    sents = []\n",
    "    for doc in content:\n",
    "        doc_sents = sent_tokenizer.tokenize(doc)\n",
    "        for doc_sent in doc_sents:\n",
    "            sent = []\n",
    "            doc_tokens = word_tokenize(doc_sent)\n",
    "            for doc_token in doc_tokens:\n",
    "                clean_token = re.sub(r'[^\\w\\s]', '', doc_token)\n",
    "                if len(clean_token) > 0 and len(doc_token) > 1:\n",
    "                    token = doc_token.replace('\\xad','')\n",
    "                    sent.append(token.strip())\n",
    "            if len(sent) >= min_sent_len:\n",
    "                sents.append(' '.join(sent))\n",
    "    return sents\n",
    "    \n",
    "def process_file(filename, mode='a', n_jobs=-1, out_filename='./fwe/data/preprocessed/sents.csv'):\n",
    "    print(f'Processing file {filename}')\n",
    "    with open(f'./fwe/data/feed/{filename}.jl', 'r', encoding='utf8') as f:\n",
    "        n_lines = sum(1 for i in f)\n",
    "        f.seek(0)\n",
    "        sent_sets = Parallel(n_jobs=1)(delayed(preprocess_line)(l)\n",
    "                                       for l in tqdm_notebook(f, total=n_lines))\n",
    "        sents = [sent for sent_set in sent_sets for sent in sent_set]\n",
    "\n",
    "    with open(out_filename, mode, encoding='utf8') as fout:\n",
    "        fout.write('\\n'.join(sents))\n",
    "        \n",
    "process_file('demi', mode='w')\n",
    "process_file('iltalehti')\n",
    "process_file('iltasanomat')"
   ]
  },
  {
   "cell_type": "code",
   "execution_count": null,
   "metadata": {
    "scrolled": false
   },
   "outputs": [],
   "source": [
    "from spacy.lang.fi import Finnish\n",
    "from spacy.tokenizer import Tokenizer\n",
    "from spacy.tokens import Doc,Span,Token\n",
    "\n",
    "import re\n",
    "import string\n",
    "\n",
    "nlp = Finnish()\n",
    "sentencizer = nlp.create_pipe('sentencizer')\n",
    "nlp.add_pipe(sentencizer)\n",
    "tokenizer = Tokenizer(nlp.vocab)\n",
    "\n",
    "def clean_token(token): \n",
    "    if len(re.sub(r'[^\\w\\s]', '', token.text).strip()) == 0:\n",
    "        return ''\n",
    "    token = token.text\n",
    "    if token[-1] in string.punctuation:\n",
    "        token = token[:-1]\n",
    "    token = re.sub(r'[\\\"\\”\\'\\`\\(\\)\\[\\]]', '', token)\n",
    "    return token.strip()\n",
    "\n",
    "Token.set_extension('processed', getter=clean_token, force=True)\n",
    "\n",
    "class SentenceWriter(object):\n",
    "    \n",
    "    def __init__(self, input_filepath, output_filepath,\n",
    "                 min_sentence_tokens=5):\n",
    "        self.input_filepath = input_filepath\n",
    "        self.output_filepath = output_filepath\n",
    "        self.min_sentence_tokens = min_sentence_tokens\n",
    "        \n",
    "    def line_to_sents(self, line):\n",
    "        line = json.loads(line)['content']\n",
    "        sents = []\n",
    "        for doc in nlp.pipe(line):\n",
    "            for sent in tokenizer.pipe(s.string.strip() for s in doc.sents):\n",
    "                sent_tokens = []\n",
    "                for token in sent:\n",
    "                    if len(token) > 0:\n",
    "                        sent_tokens.append(token._.processed)\n",
    "                \n",
    "                if len(sent_tokens) > self.min_sentence_tokens:\n",
    "                    sents.append(' '.join(sent_tokens))\n",
    "        return sents\n",
    "        \n",
    "    def preprocess(self):\n",
    "        with open(self.input_filepath, 'r', encoding='utf8') as fin:\n",
    "            with open(self.output_filepath, 'a', encoding='utf8') as fout:\n",
    "                for i,line in enumerate(fin):\n",
    "                    sents = self.line_to_sents(line)\n",
    "                    if len(sents) > 0:\n",
    "                        fout.write('\\n'.join(sents))\n",
    "                        \n",
    "                    if i % 100 == 0:\n",
    "                        print('Read %s lines' % i)\n",
    "                        \n",
    "sw = SentenceWriter('./data/feed/iltalehti.jl', \n",
    "                    './data/preprocessed/test.csv').preprocess()"
   ]
  },
  {
   "cell_type": "code",
   "execution_count": null,
   "metadata": {},
   "outputs": [],
   "source": [
    "#sents = Parallel(n_jobs=4)(delayed(process_content)(l)\n",
    "#                           for l in tqdm_notebook(df['content'].values[:1000]))"
   ]
  },
  {
   "cell_type": "code",
   "execution_count": null,
   "metadata": {},
   "outputs": [],
   "source": [
    "from gensim.models import Word2Vec"
   ]
  },
  {
   "cell_type": "code",
   "execution_count": null,
   "metadata": {},
   "outputs": [],
   "source": [
    "from gensim.models.word2vec import LineSentence"
   ]
  },
  {
   "cell_type": "code",
   "execution_count": null,
   "metadata": {},
   "outputs": [],
   "source": [
    "import logging\n",
    "logging.basicConfig(format='%(asctime)s : %(levelname)s : %(message)s', level=logging.INFO)"
   ]
  },
  {
   "cell_type": "code",
   "execution_count": null,
   "metadata": {},
   "outputs": [],
   "source": [
    "sents = LineSentence('./data/preprocessed/test.csv')"
   ]
  },
  {
   "cell_type": "code",
   "execution_count": null,
   "metadata": {},
   "outputs": [],
   "source": [
    "w2v = Word2Vec(\n",
    "    min_count=10,\n",
    "    window=4,\n",
    "    size=100,\n",
    "    workers=4\n",
    ")"
   ]
  },
  {
   "cell_type": "code",
   "execution_count": null,
   "metadata": {},
   "outputs": [],
   "source": [
    "w2v.build_vocab(sents, progress_per=1e6)"
   ]
  },
  {
   "cell_type": "code",
   "execution_count": null,
   "metadata": {
    "scrolled": true
   },
   "outputs": [],
   "source": [
    "w2v.train(\n",
    "    sents,\n",
    "    total_examples=w2v.corpus_count,\n",
    "    epochs=w2v.epochs\n",
    ")"
   ]
  },
  {
   "cell_type": "code",
   "execution_count": null,
   "metadata": {},
   "outputs": [],
   "source": [
    "w2v.wv.most_similar('homo')"
   ]
  }
 ],
 "metadata": {
  "kernelspec": {
   "display_name": "Python 3",
   "language": "python",
   "name": "python3"
  },
  "language_info": {
   "codemirror_mode": {
    "name": "ipython",
    "version": 3
   },
   "file_extension": ".py",
   "mimetype": "text/x-python",
   "name": "python",
   "nbconvert_exporter": "python",
   "pygments_lexer": "ipython3",
   "version": "3.7.3"
  }
 },
 "nbformat": 4,
 "nbformat_minor": 2
}
