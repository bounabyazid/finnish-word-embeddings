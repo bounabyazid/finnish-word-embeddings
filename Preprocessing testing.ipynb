{
 "cells": [
  {
   "cell_type": "code",
   "execution_count": 2,
   "metadata": {},
   "outputs": [],
   "source": [
    "import ujson as json\n",
    "import os\n",
    "import re\n",
    "\n",
    "import numpy as np\n",
    "import pandas as pd\n",
    "\n",
    "from tqdm import tqdm_notebook\n",
    "import gc\n",
    "\n",
    "%matplotlib inline\n",
    "import time\n",
    "import matplotlib.pyplot as plt\n",
    "\n",
    "from joblib import Parallel,delayed\n",
    "from itertools import islice\n",
    "\n",
    "from collections import Counter\n",
    "import nltk\n",
    "from nltk.tokenize import word_tokenize\n",
    "\n",
    "sent_tokenizer = nltk.data.load('tokenizers/punkt/finnish.pickle')"
   ]
  },
  {
   "cell_type": "code",
   "execution_count": 189,
   "metadata": {},
   "outputs": [],
   "source": [
    "with open('./fwe/data/feed/demi.jl', 'r', encoding='utf8') as f:\n",
    "    lines = json.loads('[' + ','.join(f.readlines()) +']')"
   ]
  },
  {
   "cell_type": "code",
   "execution_count": 336,
   "metadata": {},
   "outputs": [
    {
     "name": "stdout",
     "output_type": "stream",
     "text": [
      "736 ms ± 2.58 ms per loop (mean ± std. dev. of 2 runs, 10 loops each)\n"
     ]
    }
   ],
   "source": [
    "import string\n",
    "\n",
    "from nltk.tokenize import TweetTokenizer\n",
    "\n",
    "tweet_tokenizer = TweetTokenizer(strip_handles=True, reduce_len=True, preserve_case=False)\n",
    "\n",
    "def preprocess_lines_fast(lines, min_sent_len=3):\n",
    "    contents = [c for js in lines for c in js['content']]\n",
    "    \n",
    "    filter_re = re.compile(r'[^\\w\\s]')\n",
    "    url_re = re.compile(r'\\w+:\\/\\/\\S*')\n",
    "    nums_re = re.compile(r'[0-9]+')\n",
    "    \n",
    "    sents = []\n",
    "    for doc in contents:\n",
    "        #print(f'\\nOriginal:\\n{doc}')\n",
    "        for sent in sent_tokenizer.tokenize(doc):\n",
    "            sent_tokens = []\n",
    "            \n",
    "            # Additional RE\n",
    "            sent = url_re.sub('<URL>', sent)\n",
    "            sent = nums_re.sub('<NUM>', sent)\n",
    "            \n",
    "            # Tokenization\n",
    "            tokens = tweet_tokenizer.tokenize(sent)\n",
    "\n",
    "            # Cleaning up\n",
    "            for token in tokens:\n",
    "                normal_chars = filter_re.sub('', token)\n",
    "                other_chars = filter_re.findall(token)\n",
    "                        \n",
    "                enough_normal_chars = len(normal_chars) > 0\n",
    "                if enough_normal_chars:\n",
    "                    sent_tokens.append(token)\n",
    "                    continue\n",
    "                    \n",
    "                only_one_other = len(other_chars) == 1\n",
    "                others_in_punct = any([c in string.punctuation for c in other_chars])\n",
    "                if only_one_other and not others_in_punct:\n",
    "                    sent_tokens.append(token)\n",
    "            \n",
    "            # Add to sentences\n",
    "            if len(sent_tokens) >= min_sent_len:\n",
    "                clean_sent = ' '.join(sent_tokens)\n",
    "                sents.append(clean_sent)\n",
    "\n",
    "                #print(f'Result:\\t{clean_sent}')\n",
    "                \n",
    "    return sents\n",
    "    \n",
    "#preprocess_lines_spacy(lines[:10])\n",
    "%timeit -n 10 -r 2 preprocess_lines_fast(lines[:1000])"
   ]
  },
  {
   "cell_type": "code",
   "execution_count": 247,
   "metadata": {},
   "outputs": [],
   "source": [
    "def preprocess_lines(lines, min_sent_len=5): # TODO: Add features\n",
    "    sents = []\n",
    "    contents = [js['content'] for js in lines]\n",
    "    \n",
    "    html_regex = re.compile(r'(http\\s|https\\s|https|http|)?:\\/\\/(\\w|\\.|\\/|\\?|\\=|\\&|\\%)*\\b',\n",
    "                            flags=re.MULTILINE)\n",
    "    for content in contents:\n",
    "        for doc in content:\n",
    "            \n",
    "            # Process raw text\n",
    "            doc = html_regex.sub('', doc)\n",
    "            doc = doc.replace('\\xad','')\n",
    "            \n",
    "            doc_sents = sent_tokenizer.tokenize(doc)\n",
    "            for doc_sent in doc_sents:\n",
    "                sent = []\n",
    "                doc_tokens = word_tokenize(doc_sent)\n",
    "                for token in doc_tokens:\n",
    "                    if len(re.sub(r'[^\\w\\s]', '', token)) > 0 and len(token) > 1:\n",
    "                        sent.append(token)\n",
    "                if len(sent) >= min_sent_len:\n",
    "                    sents.append(' '.join(sent))\n",
    "    #print(sents[1])\n",
    "    return sents\n",
    "\n",
    "def preprocess_lines_other(lines, min_sent_len=5):\n",
    "    contents = [js['content'] for js in lines]\n",
    "    html_regex = re.compile(r'(http\\s|https\\s|https|http|)?:\\/\\/(\\w|\\.|\\/|\\?|\\=|\\&|\\%)*\\b',\n",
    "                            flags=re.MULTILINE)\n",
    "    sents = []\n",
    "    for content in contents:\n",
    "        for doc in content:\n",
    "            \n",
    "            # Process raw text\n",
    "            doc = html_regex.sub('', doc)\n",
    "            doc = doc.replace('\\xad','')\n",
    "            \n",
    "            doc_sents = sent_tokenizer.tokenize(doc)\n",
    "            for doc_sent in doc_sents:\n",
    "                sent = []\n",
    "                #doc_tokens = re_tokenizer.findall(doc_sent)\n",
    "                #doc_tokens = tok_tokenizer.tokenize(doc_sent)\n",
    "                doc_tokens = tweet_tokenizer.tokenize(doc_sent)\n",
    "                for token in doc_tokens:\n",
    "                    if len(token) > 1:\n",
    "                        sent.append(token.strip())\n",
    "                if len(sent) >= min_sent_len:\n",
    "                    sents.append(' '.join(sent))\n",
    "    #print(sents[1])\n",
    "    return sents"
   ]
  },
  {
   "cell_type": "code",
   "execution_count": 330,
   "metadata": {},
   "outputs": [
    {
     "name": "stdout",
     "output_type": "stream",
     "text": [
      "672 ms ± 1.23 ms per loop (mean ± std. dev. of 2 runs, 10 loops each)\n"
     ]
    }
   ],
   "source": [
    "%timeit -n 10 -r 2 preprocess_lines_other(lines[:1000])"
   ]
  },
  {
   "cell_type": "code",
   "execution_count": 331,
   "metadata": {},
   "outputs": [
    {
     "name": "stdout",
     "output_type": "stream",
     "text": [
      "1.59 s ± 2.54 ms per loop (mean ± std. dev. of 2 runs, 10 loops each)\n"
     ]
    }
   ],
   "source": [
    "%timeit -n 10 -r 2 preprocess_lines(lines[:1000])"
   ]
  },
  {
   "cell_type": "code",
   "execution_count": null,
   "metadata": {},
   "outputs": [],
   "source": []
  }
 ],
 "metadata": {
  "kernelspec": {
   "display_name": "Python 3",
   "language": "python",
   "name": "python3"
  },
  "language_info": {
   "codemirror_mode": {
    "name": "ipython",
    "version": 3
   },
   "file_extension": ".py",
   "mimetype": "text/x-python",
   "name": "python",
   "nbconvert_exporter": "python",
   "pygments_lexer": "ipython3",
   "version": "3.7.3"
  }
 },
 "nbformat": 4,
 "nbformat_minor": 2
}
